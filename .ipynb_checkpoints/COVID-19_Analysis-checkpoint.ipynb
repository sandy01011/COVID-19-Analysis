{
 "cells": [
  {
   "cell_type": "code",
   "execution_count": null,
   "metadata": {},
   "outputs": [],
   "source": [
    "import json\n",
    "import numpy as np\n",
    "import pandas as pd\n",
    "import requests\n",
    "from joypy import joyplot\n",
    "import matplotlib.pyplot as plt\n",
    "from pandas.api.types import CategoricalDtype"
   ]
  },
  {
   "cell_type": "markdown",
   "metadata": {},
   "source": [
    "# Reading Covid-19 Data"
   ]
  },
  {
   "cell_type": "markdown",
   "metadata": {},
   "source": [
    "#### INDIA"
   ]
  },
  {
   "cell_type": "code",
   "execution_count": null,
   "metadata": {},
   "outputs": [],
   "source": [
    "#URLI = \"https://api.covid19india.org/data.json\"\n",
    "#result = requests.get(URLI).json()\n",
    "#dfI = pd.DataFrame(result[\"cases_time_series\"])\n",
    "#dfI.to_excel(\"data.xlsx\", index=False)"
   ]
  },
  {
   "cell_type": "code",
   "execution_count": null,
   "metadata": {},
   "outputs": [],
   "source": [
    "URLI = \"https://api.covid19india.org/data.json\"\n",
    "resultI = requests.get(URLI).json()\n",
    "df1 = pd.DataFrame(resultI[\"cases_time_series\"])"
   ]
  },
  {
   "cell_type": "code",
   "execution_count": null,
   "metadata": {},
   "outputs": [],
   "source": [
    "df1.tail()"
   ]
  },
  {
   "cell_type": "code",
   "execution_count": null,
   "metadata": {},
   "outputs": [],
   "source": [
    "# setting index as dateymd and dropping date column\n",
    "df1 = df1.drop(['date'], axis = 1)\n",
    "df1 = df1.set_index('dateymd')\n",
    "df1.index.names = [None]"
   ]
  },
  {
   "cell_type": "code",
   "execution_count": null,
   "metadata": {},
   "outputs": [],
   "source": [
    "df1.tail()"
   ]
  },
  {
   "cell_type": "code",
   "execution_count": null,
   "metadata": {},
   "outputs": [],
   "source": [
    "df1.info()"
   ]
  },
  {
   "cell_type": "code",
   "execution_count": null,
   "metadata": {},
   "outputs": [],
   "source": [
    "df1.index = pd.to_datetime(df1.index)\n",
    "df1[\"dailyconfirmed\"] = df1[\"dailyconfirmed\"].astype(int)/1000\n",
    "df1[\"dailydeceased\"] = df1[\"dailydeceased\"].astype(int)/1000\n",
    "df1[\"dailyrecovered\"] = df1[\"dailyrecovered\"].astype(int)/1000\n",
    "df1[\"totalconfirmed\"] = df1[\"totalconfirmed\"].astype(int)/1000\n",
    "df1[\"totaldeceased\"] = df1[\"totaldeceased\"].astype(int)/1000\n",
    "df1[\"totalrecovered\"] = df1[\"totalrecovered\"].astype(int)/1000"
   ]
  },
  {
   "cell_type": "code",
   "execution_count": null,
   "metadata": {},
   "outputs": [],
   "source": [
    "df1.info()"
   ]
  },
  {
   "cell_type": "code",
   "execution_count": null,
   "metadata": {},
   "outputs": [],
   "source": [
    "# some basic plot\n",
    "df1['dailyconfirmed'].plot()"
   ]
  },
  {
   "cell_type": "code",
   "execution_count": null,
   "metadata": {},
   "outputs": [],
   "source": [
    "df1.plot(subplots=True, figsize=(10,12))"
   ]
  },
  {
   "cell_type": "code",
   "execution_count": null,
   "metadata": {},
   "outputs": [],
   "source": [
    "# comparing daily, weekly (mean) , monthly (mean) \n",
    "df_month = df1.resample(\"M\").mean()\n",
    "df_week = df1.resample(\"W\").mean()"
   ]
  },
  {
   "cell_type": "code",
   "execution_count": null,
   "metadata": {},
   "outputs": [],
   "source": [
    "# daily vs weekly\n",
    "start, end = '2020-01', '2021-04'\n",
    "fig, ax = plt.subplots(figsize=(10,10))\n",
    "ax.plot(df1.loc[start:end, 'dailyconfirmed'], marker='.', linestyle='-', linewidth = 0.1, label='Daily', color='black')\n",
    "ax.plot(df_week.loc[start:end, 'dailyconfirmed'], marker='.', markersize=2, linestyle='-', label='Weekly', color='coral')\n",
    "#label='Monthly', color='violet'\n",
    "ax.set_ylabel(\"daily confirmed\")\n",
    "ax.legend()"
   ]
  },
  {
   "cell_type": "code",
   "execution_count": null,
   "metadata": {},
   "outputs": [],
   "source": [
    "# 7 day rolling \n",
    "df_7d_rolling = df1.rolling(7, center=True).mean()\n",
    "start, end = '2020-01', '2021-04'\n",
    "fig, ax = plt.subplots(figsize=(10,10))\n",
    "#fig =  plt.figure(figsize = (20,8), dpi = 100)\n",
    "ax.plot(df1.loc[start:end, 'dailyconfirmed'], marker='.', linestyle='-', \n",
    "        linewidth=0.1, label='Daily')\n",
    "ax.plot(df_week.loc[start:end, 'dailyconfirmed'], marker='o', markersize=1, \n",
    "        linestyle='-', label = 'Weekly Avg')\n",
    "ax.plot(df_7d_rolling.loc[start:end, 'dailyconfirmed'], marker='.', markersize=1, linestyle='-', label='7d Rolling Avg')\n",
    "ax.set_ylabel('daily confirmed')\n",
    "ax.legend()"
   ]
  },
  {
   "cell_type": "code",
   "execution_count": null,
   "metadata": {},
   "outputs": [],
   "source": [
    "# daily confirmed  vs dailyrecovered\n",
    "start, end = '2020-01', '2021-04'\n",
    "fig, ax = plt.subplots(figsize=(10,10))\n",
    "ax.plot(df1.loc[start:end, 'dailyconfirmed'], marker='o', markersize=3, linestyle='-', linewidth = 0.2, label='confirmed', color='orange')\n",
    "ax.plot(df1.loc[start:end, 'dailyrecovered'], marker='o', markersize=3, linestyle='-', linewidth = 0.2, label='recovered', color='green')\n",
    "ax.plot(df1.loc[start:end, 'dailydeceased'], marker='o', markersize=3, linestyle='-', linewidth = 0.2, label='death', color='red')\n",
    "#label='Monthly', color='violet'\n",
    "ax.set_ylabel(\"con vs rec vs dead\")\n",
    "ax.legend()"
   ]
  },
  {
   "cell_type": "code",
   "execution_count": null,
   "metadata": {},
   "outputs": [],
   "source": [
    "# total confirmed  vs dailyrecovered\n",
    "start, end = '2020-01', '2021-04'\n",
    "fig, ax = plt.subplots(figsize=(10,10))\n",
    "ax.plot(df1.loc[start:end, 'totalconfirmed'], marker='.', markersize=3, linestyle='-', linewidth = 0.2, label='confirmed', color='orange')\n",
    "ax.plot(df1.loc[start:end, 'totalrecovered'], marker='.', markersize=3, linestyle='-', linewidth = 0.2, label='recovered', color='green')\n",
    "#ax.plot(df1.loc[start:end, 'totaldeceased'], marker='.', markersize=3, linestyle='-', linewidth = 0.2, label='death', color='red')\n",
    "#label='Monthly', color='violet'\n",
    "ax.set_ylabel(\"con vs rec\")\n",
    "ax.legend()"
   ]
  },
  {
   "cell_type": "code",
   "execution_count": null,
   "metadata": {},
   "outputs": [],
   "source": []
  },
  {
   "cell_type": "code",
   "execution_count": null,
   "metadata": {},
   "outputs": [],
   "source": []
  },
  {
   "cell_type": "code",
   "execution_count": null,
   "metadata": {},
   "outputs": [],
   "source": [
    "cat_month = CategoricalDtype(\n",
    "    ['January', 'February', 'March', 'April', 'May', 'June','July', 'August',  'September','October', 'November', 'December'])"
   ]
  },
  {
   "cell_type": "code",
   "execution_count": null,
   "metadata": {},
   "outputs": [],
   "source": [
    "df['Month'] = df['Month'].astype(cat_month)"
   ]
  },
  {
   "cell_type": "markdown",
   "metadata": {},
   "source": [
    "# Creating a Ridgeline Plot"
   ]
  },
  {
   "cell_type": "code",
   "execution_count": null,
   "metadata": {},
   "outputs": [],
   "source": [
    "plt.figure()\n",
    "\n",
    "joyplot(\n",
    "    data=df[['dailyconfirmed', 'Month']], \n",
    "    by='Month',\n",
    "    figsize=(10, 6)\n",
    ")\n",
    "plt.title('Ridgeline Plot of Covid-19 Cases in India for the last 12 months', fontsize=20)\n",
    "plt.show()"
   ]
  },
  {
   "cell_type": "markdown",
   "metadata": {},
   "source": [
    "# Ridgeline plot for multiple variables"
   ]
  },
  {
   "cell_type": "code",
   "execution_count": null,
   "metadata": {},
   "outputs": [],
   "source": [
    "plt.figure()\n",
    "\n",
    "ax, fig = joyplot(\n",
    "     data=df[['dailyrecovered', 'dailyconfirmed', 'Month']], \n",
    "      by='Month',\n",
    "      figsize=(12, 8),\n",
    "      column=['dailyrecovered', 'dailyconfirmed'],\n",
    "      color=['#686de0', '#eb4d4b'],\n",
    "    legend=True,\n",
    "    alpha=0.85,\n",
    ")\n",
    "plt.title('Ridgeline Plot of Covid-19 Cases and Recoveries in India for the last 3 months', fontsize=20)\n",
    "plt.show()"
   ]
  },
  {
   "cell_type": "code",
   "execution_count": null,
   "metadata": {},
   "outputs": [],
   "source": []
  },
  {
   "cell_type": "code",
   "execution_count": null,
   "metadata": {},
   "outputs": [],
   "source": []
  },
  {
   "cell_type": "code",
   "execution_count": null,
   "metadata": {},
   "outputs": [],
   "source": []
  },
  {
   "cell_type": "code",
   "execution_count": null,
   "metadata": {},
   "outputs": [],
   "source": []
  },
  {
   "cell_type": "markdown",
   "metadata": {},
   "source": [
    "#### WORLD"
   ]
  },
  {
   "cell_type": "code",
   "execution_count": null,
   "metadata": {},
   "outputs": [],
   "source": [
    "URLW = \"https://opendata.ecdc.europa.eu/covid19/nationalcasedeath_eueea_daily_ei/json/\"\n",
    "resultw = requests.get(URLW).json()\n",
    "df2 = pd.DataFrame(resultw[\"records\"])"
   ]
  },
  {
   "cell_type": "code",
   "execution_count": null,
   "metadata": {},
   "outputs": [],
   "source": [
    "df2.head()"
   ]
  },
  {
   "cell_type": "code",
   "execution_count": null,
   "metadata": {},
   "outputs": [],
   "source": [
    "df2.info()"
   ]
  },
  {
   "cell_type": "code",
   "execution_count": null,
   "metadata": {},
   "outputs": [],
   "source": [
    "df2.columns"
   ]
  },
  {
   "cell_type": "code",
   "execution_count": null,
   "metadata": {},
   "outputs": [],
   "source": [
    "df2.continentExp.tail()"
   ]
  },
  {
   "cell_type": "code",
   "execution_count": null,
   "metadata": {},
   "outputs": [],
   "source": []
  }
 ],
 "metadata": {
  "kernelspec": {
   "display_name": "vconSanAI",
   "language": "python",
   "name": "vconsanai"
  },
  "language_info": {
   "codemirror_mode": {
    "name": "ipython",
    "version": 3
   },
   "file_extension": ".py",
   "mimetype": "text/x-python",
   "name": "python",
   "nbconvert_exporter": "python",
   "pygments_lexer": "ipython3",
   "version": "3.8.1"
  }
 },
 "nbformat": 4,
 "nbformat_minor": 4
}
